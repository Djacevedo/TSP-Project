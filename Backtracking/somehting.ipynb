{
 "cells": [
  {
   "cell_type": "code",
   "execution_count": null,
   "id": "7a881e5e",
   "metadata": {},
   "outputs": [],
   "source": [
    "routes = []\n",
    "list = [0,1,2,3,4,5]\n",
    "list_copy = list.copy()\n",
    "\n",
    "one_route = []\n",
    "for index in range(len(list)):\n",
    "    one_route.append(0)\n",
    "    one_route.append(index+1)\n",
    "    list_copy.pop(index)\n",
    "    list_copy.pop(index+1)\n",
    "    for city in list_copy:\n",
    "        one_route.append(city)\n",
    "\n",
    "routes.appned(one_route)\n",
    "\n"
   ]
  }
 ],
 "metadata": {
  "language_info": {
   "name": "python"
  }
 },
 "nbformat": 4,
 "nbformat_minor": 5
}
