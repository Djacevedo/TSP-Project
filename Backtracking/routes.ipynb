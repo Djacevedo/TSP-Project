{
 "cells": [
  {
   "cell_type": "code",
   "execution_count": null,
   "id": "0705ed34",
   "metadata": {},
   "outputs": [],
   "source": [
    "def tsp_recursive:"
   ]
  },
  {
   "cell_type": "code",
   "execution_count": null,
   "id": "7a881e5e",
   "metadata": {},
   "outputs": [
    {
     "name": "stdout",
     "output_type": "stream",
     "text": [
      "[[0, 1, 2], [0, 1, 3], [0, 1, 4], [0, 1, 5], [0, 1, 6], [0, 2, 3], [0, 2, 4], [0, 2, 5], [0, 2, 6], [0, 3, 4], [0, 3, 5], [0, 3, 6], [0, 4, 5], [0, 4, 6], [0, 5, 6]]\n"
     ]
    }
   ],
   "source": [
    "def tsp_backtracking():\n",
    "        \n",
    "    routes = []\n",
    "    list = [0,1,2,3,4,5,6]\n",
    "\n",
    "    for second_city in range(1,len(list)+1):\n",
    "        for last_city in range(second_city+1, len(list)):\n",
    "            one_route = [0,second_city, last_city]\n",
    "            routes.append(one_route)\n",
    "\n",
    "    print(routes)"
   ]
  },
  {
   "cell_type": "code",
   "execution_count": null,
   "id": "e955ae04",
   "metadata": {},
   "outputs": [],
   "source": []
  }
 ],
 "metadata": {
  "kernelspec": {
   "display_name": "Python 3",
   "language": "python",
   "name": "python3"
  },
  "language_info": {
   "codemirror_mode": {
    "name": "ipython",
    "version": 3
   },
   "file_extension": ".py",
   "mimetype": "text/x-python",
   "name": "python",
   "nbconvert_exporter": "python",
   "pygments_lexer": "ipython3",
   "version": "3.12.1"
  }
 },
 "nbformat": 4,
 "nbformat_minor": 5
}
